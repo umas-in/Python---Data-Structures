# Program : convert a list of numeric value into a one-dimensional NumPy array
# NumPy is a module 

import numpy as np
my_list = [85.9, 212.42, 300, 45.45, 50, 43.5]

print("List :",my_list)
new_array = np.array(my_list)

print("One-dimensional NumPy array is : ", new_array)
